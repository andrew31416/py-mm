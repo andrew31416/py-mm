{
 "cells": [
  {
   "cell_type": "code",
   "execution_count": 1,
   "id": "julian-computer",
   "metadata": {},
   "outputs": [],
   "source": [
    "from pymm.models import MarkovModel\n",
    "\n",
    "import numpy as np"
   ]
  },
  {
   "cell_type": "code",
   "execution_count": 25,
   "id": "turkish-alarm",
   "metadata": {},
   "outputs": [],
   "source": [
    "# number of states for categorical variable\n",
    "K = 2\n",
    "\n",
    "# order of Markov model\n",
    "M = 1\n",
    "\n",
    "generator = MarkovModel(K=K, M=M, random_init=True)\n",
    "\n",
    "# create artificial dataset\n",
    "X = [generator.sample(10) for _ in range(1000)]"
   ]
  },
  {
   "cell_type": "code",
   "execution_count": 26,
   "id": "colored-passage",
   "metadata": {},
   "outputs": [
    {
     "name": "stderr",
     "output_type": "stream",
     "text": [
      "C:\\Users\\AFowl\\local\\lib\\anaconda\\envs\\pymm\\lib\\site-packages\\scipy-1.7.1-py3.8-win-amd64.egg\\scipy\\sparse\\_index.py:116: SparseEfficiencyWarning: Changing the sparsity structure of a csr_matrix is expensive. lil_matrix is more efficient.\n",
      "  self._set_arrayXarray_sparse(i, j, x)\n",
      "C:\\Users\\AFowl\\local\\lib\\anaconda\\envs\\pymm\\lib\\site-packages\\scipy-1.7.1-py3.8-win-amd64.egg\\scipy\\optimize\\optimize.py:282: RuntimeWarning: Values in x were outside bounds during a minimize step, clipping to bounds\n",
      "  warnings.warn(\"Values in x were outside bounds during a \"\n"
     ]
    },
    {
     "name": "stdout",
     "output_type": "stream",
     "text": [
      "9.77 s ± 0 ns per loop (mean ± std. dev. of 1 run, 1 loop each)\n"
     ]
    }
   ],
   "source": [
    "model = MarkovModel(K=K, M=M)\n",
    "\n",
    "%timeit -r 1 -n 1 model.fit(X)"
   ]
  },
  {
   "cell_type": "code",
   "execution_count": 27,
   "id": "assumed-charge",
   "metadata": {},
   "outputs": [
    {
     "data": {
      "text/plain": [
       "array([0.62599886, 0.37400114])"
      ]
     },
     "execution_count": 27,
     "metadata": {},
     "output_type": "execute_result"
    }
   ],
   "source": [
    "model.models[0].A"
   ]
  },
  {
   "cell_type": "code",
   "execution_count": 28,
   "id": "entire-projection",
   "metadata": {},
   "outputs": [
    {
     "data": {
      "text/plain": [
       "array([0.6437402, 0.3562598])"
      ]
     },
     "execution_count": 28,
     "metadata": {},
     "output_type": "execute_result"
    }
   ],
   "source": [
    "generator.models[0].A"
   ]
  },
  {
   "cell_type": "code",
   "execution_count": 29,
   "metadata": {},
   "outputs": [
    {
     "data": {
      "text/plain": [
       "array([[0.78300418, 0.17516116],\n",
       "       [0.21699582, 0.82483884]])"
      ]
     },
     "execution_count": 29,
     "metadata": {},
     "output_type": "execute_result"
    }
   ],
   "source": [
    "model.models[1].A"
   ]
  },
  {
   "cell_type": "code",
   "execution_count": 30,
   "metadata": {},
   "outputs": [
    {
     "data": {
      "text/plain": [
       "array([[0.793431  , 0.17570343],\n",
       "       [0.206569  , 0.82429657]])"
      ]
     },
     "execution_count": 30,
     "metadata": {},
     "output_type": "execute_result"
    }
   ],
   "source": [
    "generator.models[1].A"
   ]
  },
  {
   "cell_type": "code",
   "execution_count": 24,
   "metadata": {},
   "outputs": [
    {
     "data": {
      "text/plain": [
       "[<pymm.base.ConditionalDistribution at 0x1f264f9cca0>,\n",
       " <pymm.base.ConditionalDistribution at 0x1f264f9ca60>]"
      ]
     },
     "execution_count": 24,
     "metadata": {},
     "output_type": "execute_result"
    }
   ],
   "source": [
    "model.models"
   ]
  },
  {
   "cell_type": "code",
   "execution_count": null,
   "metadata": {},
   "outputs": [],
   "source": []
  }
 ],
 "metadata": {
  "interpreter": {
   "hash": "e4085c9ce4894a9a5d00f07d84f02b7b1a83643669c5a66bd53c06e00b4fd492"
  },
  "kernelspec": {
   "display_name": "Python 3.8.0 64-bit ('pymm': conda)",
   "name": "python3"
  },
  "language_info": {
   "codemirror_mode": {
    "name": "ipython",
    "version": 3
   },
   "file_extension": ".py",
   "mimetype": "text/x-python",
   "name": "python",
   "nbconvert_exporter": "python",
   "pygments_lexer": "ipython3",
   "version": "3.8.0"
  }
 },
 "nbformat": 4,
 "nbformat_minor": 5
}
