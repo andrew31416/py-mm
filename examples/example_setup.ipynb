{
 "cells": [
  {
   "cell_type": "code",
   "execution_count": 1,
   "id": "fatty-adrian",
   "metadata": {},
   "outputs": [],
   "source": [
    "try:\n",
    "    import pymm\n",
    "except ModuleNotFoundError:\n",
    "    # may be running notebook from examples in project repository\n",
    "    from sys import path, modules\n",
    "    path.append('..')\n",
    "    \n",
    "    import src\n",
    "    modules['pymm'] = src\n",
    "    \n",
    "    import pymm"
   ]
  },
  {
   "cell_type": "code",
   "execution_count": 2,
   "id": "julian-computer",
   "metadata": {},
   "outputs": [],
   "source": [
    "from pymm.models import MarkovModel\n",
    "\n",
    "import numpy as np"
   ]
  },
  {
   "cell_type": "code",
   "execution_count": 14,
   "id": "turkish-alarm",
   "metadata": {},
   "outputs": [],
   "source": [
    "# number of states for categorical variable\n",
    "K = 2\n",
    "\n",
    "# order of Markov model\n",
    "M = 1\n",
    "\n",
    "model = MarkovModel(K=K, M=M)"
   ]
  },
  {
   "cell_type": "code",
   "execution_count": 15,
   "id": "colored-passage",
   "metadata": {},
   "outputs": [],
   "source": [
    "model.fit(np.asarray([0, 1, 0, 1, 0, 1, 0]))"
   ]
  },
  {
   "cell_type": "code",
   "execution_count": 19,
   "id": "assumed-charge",
   "metadata": {},
   "outputs": [
    {
     "data": {
      "text/plain": [
       "array([0, 1, 0, 1, 0, 1, 0, 1, 0, 1], dtype=int64)"
      ]
     },
     "execution_count": 19,
     "metadata": {},
     "output_type": "execute_result"
    }
   ],
   "source": [
    "model.sample(10, [0])"
   ]
  },
  {
   "cell_type": "code",
   "execution_count": null,
   "id": "entire-projection",
   "metadata": {},
   "outputs": [],
   "source": []
  }
 ],
 "metadata": {
  "kernelspec": {
   "display_name": "Python 3",
   "language": "python",
   "name": "python3"
  },
  "language_info": {
   "codemirror_mode": {
    "name": "ipython",
    "version": 3
   },
   "file_extension": ".py",
   "mimetype": "text/x-python",
   "name": "python",
   "nbconvert_exporter": "python",
   "pygments_lexer": "ipython3",
   "version": "3.8.3"
  }
 },
 "nbformat": 4,
 "nbformat_minor": 5
}
