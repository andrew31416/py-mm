{
 "cells": [
  {
   "cell_type": "code",
   "execution_count": 1,
   "metadata": {},
   "outputs": [],
   "source": [
    "import numpy as np"
   ]
  },
  {
   "cell_type": "markdown",
   "metadata": {},
   "source": [
    "## Markov Models, Sequential Data\n",
    "\n",
    "\n",
    "The likelihood of a sequence $(x_1, x_2,\\ldots,x_N)$ can be defined as a markov model of $M^{\\mathrm{th}}$ order by\n",
    "\n",
    "\\begin{equation}\n",
    "p(x_1,\\ldots,x_N) = p(x_1) p(x_2|x_1)\\ldots p(x_{M}|x_{M-1},\\ldots x_1)\\prod_{n=M}^N p(x_n| x_{n-1},\\ldots x_{n-M}).\n",
    "\\end{equation}\n",
    "\n",
    "The simplest order model where $M=1$ is defined as\n",
    "\n",
    "\\begin{equation}\n",
    "p(x_1,\\ldots,x_N) = p(x_1) \\prod_{n=2}^N p(x_n | x_{n-1}).\n",
    "\\end{equation}\n",
    "\n",
    "For this model, if $x\\in\\mathcal{N}$ is discrete with $K$ possible values, we can define $p(x_n|x_{n-1})$ by the transition matrix $\\mathbf{A}: A_{ij}=p(x_n=i|x_{n-1}=j)$. This is a $K\\times K$ rank 2 tensor but because we know that\n",
    "\n",
    "\\begin{equation}\n",
    "\\sum_i p(x_n=i|x_{n-1}=j) = 1, \\forall j\n",
    "\\end{equation}\n",
    "\n",
    "there are $K-1$ free variables per row of $\\mathbf{A}$ and $K(K-1)$ free variables in total. For $M=1$,\n",
    "\n",
    "\\begin{equation}\n",
    "\\mathbf{A} =\n",
    "\\begin{bmatrix}\n",
    "a_0 & 1-a_0 \\\\\n",
    "a_1 & 1-a_1\n",
    "\\end{bmatrix}\n",
    "\\end{equation}"
   ]
  },
  {
   "cell_type": "code",
   "execution_count": 11,
   "metadata": {
    "code_folding": [
     5,
     15,
     37
    ]
   },
   "outputs": [
    {
     "data": {
      "text/plain": [
       "(2,)"
      ]
     },
     "execution_count": 11,
     "metadata": {},
     "output_type": "execute_result"
    }
   ],
   "source": [
    "class ConditionalDistribution:\n",
    "    \"\"\"\n",
    "    Conditional probability distribution p(x_n | x_n-1, .., x_n-M) for \n",
    "    a M^th order Markox sequence.\n",
    "    \"\"\"\n",
    "    def __init__(self, K: int, M: int):\n",
    "        # number of possible categorical values\n",
    "        self.K = K\n",
    "        \n",
    "        # order of Markovian dependence\n",
    "        self.M = M\n",
    "        \n",
    "        # uniform initial values for transition probabilities\n",
    "        self.A = np.ones([self.K]*(M+1))/K\n",
    "        \n",
    "    def prob(self, *args) -> float:\n",
    "        \"\"\"\n",
    "        Return p(args[0]|args[1],args[2],..,args[M])\n",
    "        \n",
    "        args[0] = x_n\n",
    "        args[1] = x_n-1\n",
    "        .\n",
    "        .\n",
    "        .\n",
    "        args[M] = x_n-M\n",
    "        \n",
    "        Assume that elements of *args are integers in the range 0 to K-1\n",
    "        inclusive.\n",
    "        \"\"\"\n",
    "        if len(args) != self.M+1:\n",
    "            raise Exception('Input shape doesnt match expected shape')\n",
    "            \n",
    "        return self.A[tuple(args)]\n",
    "    \n",
    "    def log_prob(self, *args) -> float:\n",
    "        return np.log(self.prob(*args))\n",
    "            \n",
    "    def grad_log_prob(self, *args) -> np.ndarray:\n",
    "        \"\"\"\n",
    "        Returns the gradient of ln p(x_n|x_n-1..) with respect to A\n",
    "        \"\"\"\n",
    "        out = np.zeros(self.A.shape)\n",
    "        out[tuple(args)] = 1.0/self.A[tuple(args)]\n",
    "        return out\n",
    "    \n",
    "    def get_params(self) -> np.ndarray:\n",
    "        \"\"\"\n",
    "        Returns 1-d array of free parameters. Order of indices is\n",
    "        \n",
    "        for \n",
    "        \"\"\"\n",
    "        # p(x_n=K-1 | x_n-1 = j) = 1 - sum_k=0^K-2 p(x_n=k | x_n-1 = j)\n",
    "        return np.reshape(self.A[:-1, ...], (-1, ))\n",
    "    \n",
    "    def set_params(self, A_small: np.ndarray):\n",
    "        \"\"\"\n",
    "        Set self.A, the (K,...,K) rank M tensor for conditional \n",
    "        transition probabilities from the (K-1, K, ..., K) rank M tensor\n",
    "        A_small.\n",
    "        \"\"\"\n",
    "        # rank M tensor, shape = (K-1, K, ...,K)\n",
    "        A = np.reshape(A_small, tuple([K-1]+[K]*M))\n",
    "        \n",
    "        # rank M tensor, shape = (1, K, ..., K)\n",
    "        A_ = 1.0 - np.reshape(np.sum(A, axis=0), tuple([1]+[K]*M))\n",
    "        \n",
    "        # rank M tensor, shape = (K,...,K)\n",
    "        self.A = np.vstack((A, A_))\n",
    "        \n",
    "            \n",
    "class MarkovModel:\n",
    "    def __init__(self, K: int, M: int):\n",
    "        self.K = k\n",
    "        self.M = M\n",
    "        \n",
    "        self.models = [ConditionalDistribution(K=K, M=_m) for _m in range(M+1)]\n",
    "        \n",
    "        \n",
    "    def log_likelihood(self, x: np.ndarray) -> float:\n",
    "        \"\"\"\n",
    "        Returns ln p(x0) + ln p(x1|x0) ... + ln p(x_M-1|...x0) + sum_n p(x_n | x_n-1...)\n",
    "        \"\"\"\n",
    "        # ln p(x0) +...+ ln p(x_M-1 | ...x0)\n",
    "        out = sum([self.models[_m].log_prob(*x[0:_m+1][::-1]) for _m in range(self.M)])\n",
    "        \n",
    "        for _n in range(self.M, x.shape[1]):\n",
    "            out += self.modles[self.M].log_prob(*x[_n-self.M:_n+1][::-1])\n",
    "        \n",
    "inst = ConditionalDistribution(K=2, M=0)\n",
    "inst.A.shape"
   ]
  },
  {
   "cell_type": "code",
   "execution_count": 20,
   "metadata": {},
   "outputs": [
    {
     "ename": "ValueError",
     "evalue": "cannot reshape array of size 48 into shape (1,)",
     "output_type": "error",
     "traceback": [
      "\u001b[1;31m---------------------------------------------------------------------------\u001b[0m",
      "\u001b[1;31mValueError\u001b[0m                                Traceback (most recent call last)",
      "\u001b[1;32m<ipython-input-20-2dfab73f0812>\u001b[0m in \u001b[0;36m<module>\u001b[1;34m\u001b[0m\n\u001b[0;32m      5\u001b[0m \u001b[0mAorig\u001b[0m \u001b[1;33m=\u001b[0m \u001b[0mdeepcopy\u001b[0m\u001b[1;33m(\u001b[0m\u001b[0minst\u001b[0m\u001b[1;33m.\u001b[0m\u001b[0mA\u001b[0m\u001b[1;33m)\u001b[0m\u001b[1;33m\u001b[0m\u001b[1;33m\u001b[0m\u001b[0m\n\u001b[0;32m      6\u001b[0m \u001b[1;33m\u001b[0m\u001b[0m\n\u001b[1;32m----> 7\u001b[1;33m \u001b[0minst\u001b[0m\u001b[1;33m.\u001b[0m\u001b[0mset_params\u001b[0m\u001b[1;33m(\u001b[0m\u001b[0minst\u001b[0m\u001b[1;33m.\u001b[0m\u001b[0mget_params\u001b[0m\u001b[1;33m(\u001b[0m\u001b[1;33m)\u001b[0m\u001b[1;33m)\u001b[0m\u001b[1;33m\u001b[0m\u001b[1;33m\u001b[0m\u001b[0m\n\u001b[0m\u001b[0;32m      8\u001b[0m \u001b[0mArecon\u001b[0m \u001b[1;33m=\u001b[0m \u001b[0mdeepcopy\u001b[0m\u001b[1;33m(\u001b[0m\u001b[0minst\u001b[0m\u001b[1;33m.\u001b[0m\u001b[0mA\u001b[0m\u001b[1;33m)\u001b[0m\u001b[1;33m\u001b[0m\u001b[1;33m\u001b[0m\u001b[0m\n\u001b[0;32m      9\u001b[0m \u001b[1;33m\u001b[0m\u001b[0m\n",
      "\u001b[1;32m<ipython-input-11-a9f0b3aa0f12>\u001b[0m in \u001b[0;36mset_params\u001b[1;34m(self, A_small)\u001b[0m\n\u001b[0;32m     60\u001b[0m         \"\"\"\n\u001b[0;32m     61\u001b[0m         \u001b[1;31m# rank M tensor, shape = (K-1, K, ...,K)\u001b[0m\u001b[1;33m\u001b[0m\u001b[1;33m\u001b[0m\u001b[1;33m\u001b[0m\u001b[0m\n\u001b[1;32m---> 62\u001b[1;33m         \u001b[0mA\u001b[0m \u001b[1;33m=\u001b[0m \u001b[0mnp\u001b[0m\u001b[1;33m.\u001b[0m\u001b[0mreshape\u001b[0m\u001b[1;33m(\u001b[0m\u001b[0mA_small\u001b[0m\u001b[1;33m,\u001b[0m \u001b[0mtuple\u001b[0m\u001b[1;33m(\u001b[0m\u001b[1;33m[\u001b[0m\u001b[0mK\u001b[0m\u001b[1;33m-\u001b[0m\u001b[1;36m1\u001b[0m\u001b[1;33m]\u001b[0m\u001b[1;33m+\u001b[0m\u001b[1;33m[\u001b[0m\u001b[0mK\u001b[0m\u001b[1;33m]\u001b[0m\u001b[1;33m*\u001b[0m\u001b[0mM\u001b[0m\u001b[1;33m)\u001b[0m\u001b[1;33m)\u001b[0m\u001b[1;33m\u001b[0m\u001b[1;33m\u001b[0m\u001b[0m\n\u001b[0m\u001b[0;32m     63\u001b[0m \u001b[1;33m\u001b[0m\u001b[0m\n\u001b[0;32m     64\u001b[0m         \u001b[1;31m# rank M tensor, shape = (1, K, ..., K)\u001b[0m\u001b[1;33m\u001b[0m\u001b[1;33m\u001b[0m\u001b[1;33m\u001b[0m\u001b[0m\n",
      "\u001b[1;32m<__array_function__ internals>\u001b[0m in \u001b[0;36mreshape\u001b[1;34m(*args, **kwargs)\u001b[0m\n",
      "\u001b[1;32m~\\local\\lib\\anaconda\\envs\\tf2-cpu\\lib\\site-packages\\numpy\\core\\fromnumeric.py\u001b[0m in \u001b[0;36mreshape\u001b[1;34m(a, newshape, order)\u001b[0m\n\u001b[0;32m    297\u001b[0m            [5, 6]])\n\u001b[0;32m    298\u001b[0m     \"\"\"\n\u001b[1;32m--> 299\u001b[1;33m     \u001b[1;32mreturn\u001b[0m \u001b[0m_wrapfunc\u001b[0m\u001b[1;33m(\u001b[0m\u001b[0ma\u001b[0m\u001b[1;33m,\u001b[0m \u001b[1;34m'reshape'\u001b[0m\u001b[1;33m,\u001b[0m \u001b[0mnewshape\u001b[0m\u001b[1;33m,\u001b[0m \u001b[0morder\u001b[0m\u001b[1;33m=\u001b[0m\u001b[0morder\u001b[0m\u001b[1;33m)\u001b[0m\u001b[1;33m\u001b[0m\u001b[1;33m\u001b[0m\u001b[0m\n\u001b[0m\u001b[0;32m    300\u001b[0m \u001b[1;33m\u001b[0m\u001b[0m\n\u001b[0;32m    301\u001b[0m \u001b[1;33m\u001b[0m\u001b[0m\n",
      "\u001b[1;32m~\\local\\lib\\anaconda\\envs\\tf2-cpu\\lib\\site-packages\\numpy\\core\\fromnumeric.py\u001b[0m in \u001b[0;36m_wrapfunc\u001b[1;34m(obj, method, *args, **kwds)\u001b[0m\n\u001b[0;32m     56\u001b[0m \u001b[1;33m\u001b[0m\u001b[0m\n\u001b[0;32m     57\u001b[0m     \u001b[1;32mtry\u001b[0m\u001b[1;33m:\u001b[0m\u001b[1;33m\u001b[0m\u001b[1;33m\u001b[0m\u001b[0m\n\u001b[1;32m---> 58\u001b[1;33m         \u001b[1;32mreturn\u001b[0m \u001b[0mbound\u001b[0m\u001b[1;33m(\u001b[0m\u001b[1;33m*\u001b[0m\u001b[0margs\u001b[0m\u001b[1;33m,\u001b[0m \u001b[1;33m**\u001b[0m\u001b[0mkwds\u001b[0m\u001b[1;33m)\u001b[0m\u001b[1;33m\u001b[0m\u001b[1;33m\u001b[0m\u001b[0m\n\u001b[0m\u001b[0;32m     59\u001b[0m     \u001b[1;32mexcept\u001b[0m \u001b[0mTypeError\u001b[0m\u001b[1;33m:\u001b[0m\u001b[1;33m\u001b[0m\u001b[1;33m\u001b[0m\u001b[0m\n\u001b[0;32m     60\u001b[0m         \u001b[1;31m# A TypeError occurs if the object does have such a method in its\u001b[0m\u001b[1;33m\u001b[0m\u001b[1;33m\u001b[0m\u001b[1;33m\u001b[0m\u001b[0m\n",
      "\u001b[1;31mValueError\u001b[0m: cannot reshape array of size 48 into shape (1,)"
     ]
    }
   ],
   "source": [
    "from copy import deepcopy\n",
    "\n",
    "inst = ConditionalDistribution(K=4, M=2)\n",
    "\n",
    "Aorig = deepcopy(inst.A)\n",
    "\n",
    "inst.set_params(inst.get_params())\n",
    "Arecon = deepcopy(inst.A)\n",
    "\n",
    "np.allclose(Aorig, Arecon)"
   ]
  },
  {
   "cell_type": "code",
   "execution_count": 10,
   "metadata": {},
   "outputs": [
    {
     "name": "stdout",
     "output_type": "stream",
     "text": [
      "(1,)\n"
     ]
    }
   ],
   "source": [
    "K = 2\n",
    "M = 0\n",
    "\n",
    "size = tuple([K-1]+[K]*M)\n",
    "\n",
    "print(size)"
   ]
  },
  {
   "cell_type": "code",
   "execution_count": null,
   "metadata": {},
   "outputs": [],
   "source": []
  }
 ],
 "metadata": {
  "kernelspec": {
   "display_name": "Python 3",
   "language": "python",
   "name": "python3"
  },
  "language_info": {
   "codemirror_mode": {
    "name": "ipython",
    "version": 3
   },
   "file_extension": ".py",
   "mimetype": "text/x-python",
   "name": "python",
   "nbconvert_exporter": "python",
   "pygments_lexer": "ipython3",
   "version": "3.8.5"
  }
 },
 "nbformat": 4,
 "nbformat_minor": 5
}
