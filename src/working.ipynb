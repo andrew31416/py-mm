{
 "cells": [
  {
   "cell_type": "markdown",
   "id": "directed-philip",
   "metadata": {},
   "source": [
    "## Markov Models, Sequential Data\n",
    "\n",
    "\n",
    "The likelihood of a sequence $(x_1, x_2,\\ldots,x_N)$ can be defined as a markov model of $M^{\\mathrm{th}}$ order by\n",
    "\n",
    "\\begin{equation}\n",
    "p(x_1,\\ldots,x_N) = p(x_1) p(x_2|x_1)\\ldots p(x_{M}|x_{M-1},\\ldots x_1)\\prod_{n=M}^N p(x_n| x_{n-1},\\ldots x_{n-M}).\n",
    "\\end{equation}\n",
    "\n",
    "The simplest order model where $M=1$ is defined as\n",
    "\n",
    "\\begin{equation}\n",
    "p(x_1,\\ldots,x_N) = p(x_1) \\prod_{n=2}^N p(x_n | x_{n-1}).\n",
    "\\end{equation}\n",
    "\n",
    "For this model, if $x\\in\\mathcal{N}$ is discrete with $K$ possible values, we can define $p(x_n|x_{n-1})$ by the transition matrix $\\mathbf{A}: A_{ij}=p(x_n=i|x_{n-1}=j)$. This is a $K\\times K$ rank 2 tensor but because we know that\n",
    "\n",
    "\\begin{equation}\n",
    "\\sum_i p(x_n=i|x_{n-1}=j) = 1, \\forall j\n",
    "\\end{equation}\n",
    "\n",
    "there are $K-1$ free variables per row of $\\mathbf{A}$ and $K(K-1)$ free variables in total. For $M=1$,\n",
    "\n",
    "\\begin{equation}\n",
    "\\mathbf{A} =\n",
    "\\begin{bmatrix}\n",
    "a_0 & 1-a_0 \\\\\n",
    "a_1 & 1-a_1\n",
    "\\end{bmatrix}\n",
    "\\end{equation}"
   ]
  },
  {
   "cell_type": "code",
   "execution_count": null,
   "id": "false-binding",
   "metadata": {},
   "outputs": [],
   "source": []
  }
 ],
 "metadata": {
  "kernelspec": {
   "display_name": "Python 3",
   "language": "python",
   "name": "python3"
  },
  "language_info": {
   "codemirror_mode": {
    "name": "ipython",
    "version": 3
   },
   "file_extension": ".py",
   "mimetype": "text/x-python",
   "name": "python",
   "nbconvert_exporter": "python",
   "pygments_lexer": "ipython3",
   "version": "3.8.3"
  }
 },
 "nbformat": 4,
 "nbformat_minor": 5
}
